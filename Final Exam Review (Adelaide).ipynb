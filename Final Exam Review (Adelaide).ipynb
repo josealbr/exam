{
 "cells": [
  {
   "cell_type": "markdown",
   "metadata": {},
   "source": [
    "# Final Exam Review (Adelaide) [50 points]\n",
    "\n",
    "*Contact TA: Emaad Ahmed Manzoor (emaad@cmu.edu)*\n",
    "\n",
    "Recommended videos: https://www.youtube.com/playlist?list=PL5-da3qGB5ICeMbQuqbbCOQWcS6OYBr5A"
   ]
  },
  {
   "cell_type": "markdown",
   "metadata": {},
   "source": [
    "## Dataset\n",
    "\n",
    "   - We will be using the Fashion-MNIST dataset. Take a look at what the data looks like [here](https://github.com/zalandoresearch/fashion-mnist).\n",
    "   - Download the data from [here](https://www.dropbox.com/s/qgsk90f22tvsqjp/fashionmnist.zip?dl=0).\n",
    "   - There are 60,000 training images and 10,000 test images.\n",
    "   - 10 classes: t-shirt, trouser, pullover, etc. labeled as 0 to 9."
   ]
  },
  {
   "cell_type": "markdown",
   "metadata": {},
   "source": [
    "## Q0. Load the data into variables: Xtrain, ytrain, Xtest and ytest. [5 points]\n",
    "\n",
    "   - Each .csv files contains a header that describes each column.\n",
    "   - Reading the files takes <1 minute.\n",
    "   - Print the shape of each variable."
   ]
  },
  {
   "cell_type": "code",
   "execution_count": 22,
   "metadata": {
    "collapsed": true
   },
   "outputs": [],
   "source": [
    "import numpy as np\n",
    "import matplotlib.pyplot as plt\n",
    "import pandas as pd\n",
    "import warnings\n",
    "warnings.filterwarnings('ignore')\n",
    "%matplotlib inline"
   ]
  },
  {
   "cell_type": "code",
   "execution_count": 2,
   "metadata": {
    "collapsed": true
   },
   "outputs": [],
   "source": [
    "train_df = pd.read_csv(\"fashion-mnist_train.csv\", sep=\",\",  thousands=\",\")\n",
    "test_df = pd.read_csv(\"fashion-mnist_test.csv\", sep=\",\",  thousands=\",\")"
   ]
  },
  {
   "cell_type": "code",
   "execution_count": 3,
   "metadata": {},
   "outputs": [
    {
     "name": "stdout",
     "output_type": "stream",
     "text": [
      "Xtrain: (60000, 784)   Xtest: (10000, 784)   ytest: (10000,)   ytrain: (60000,)\n"
     ]
    }
   ],
   "source": [
    "Xtrain = train_df.loc[:, train_df.columns != 'label']\n",
    "Xtest = test_df.loc[:, test_df.columns != 'label']\n",
    "ytrain = train_df.loc[:, 'label']\n",
    "ytest = test_df.loc[:,  'label']\n",
    "\n",
    "print(\"Xtrain:\",Xtrain.shape,\"  Xtest:\",Xtest.shape,\"  ytest:\",ytest.shape,\"  ytrain:\",ytrain.shape)\n"
   ]
  },
  {
   "cell_type": "markdown",
   "metadata": {},
   "source": [
    "## Q1. Unsupervised image labeling. [10 points]\n",
    "\n",
    "   - Cluster the images into 10 clusters via [K-Means](http://scikit-learn.org/stable/modules/generated/sklearn.cluster.KMeans.html).\n",
    "   - Label each cluster with the most popular image class it contains.\n",
    "   - Print the class label assigned to each cluster.\n",
    "   - Report the overall accuracy on the test data.\n",
    "\n",
    "Hint: You may need to convert the K-Means cluster labels to integers using the function `labels_.astype(int)`.\n",
    "\n",
    "Clustering takes around 1 minute."
   ]
  },
  {
   "cell_type": "code",
   "execution_count": 36,
   "metadata": {
    "collapsed": true
   },
   "outputs": [],
   "source": [
    "from sklearn.cluster import KMeans\n",
    "model = KMeans(n_clusters=10, n_jobs=-1)\n",
    "fit = model.fit(Xtrain)"
   ]
  },
  {
   "cell_type": "code",
   "execution_count": 37,
   "metadata": {},
   "outputs": [
    {
     "name": "stdout",
     "output_type": "stream",
     "text": [
      "Cluster 1 label 0\n",
      "Cluster 2 label 1\n",
      "Cluster 3 label 2\n",
      "Cluster 4 label 3\n",
      "Cluster 5 label 4\n",
      "Cluster 6 label 5\n",
      "Cluster 7 label 6\n",
      "Cluster 8 label 7\n",
      "Cluster 9 label 8\n",
      "Cluster 10 label 9\n"
     ]
    }
   ],
   "source": [
    "for i, cluster in enumerate(fit.cluster_centers_):\n",
    "    label = fit.predict(cluster)\n",
    "    print('Cluster %d label %d' % (i + 1, label) )"
   ]
  },
  {
   "cell_type": "code",
   "execution_count": 38,
   "metadata": {},
   "outputs": [
    {
     "name": "stdout",
     "output_type": "stream",
     "text": [
      "[5 4 8 ..., 9 1 1]\n"
     ]
    },
    {
     "data": {
      "text/plain": [
       "0.055300000000000002"
      ]
     },
     "execution_count": 38,
     "metadata": {},
     "output_type": "execute_result"
    }
   ],
   "source": [
    "from sklearn.metrics import accuracy_score\n",
    "\n",
    "\n",
    "print(fit.predict(Xtest))\n",
    "accuracy_score(ytest, fit.predict(Xtest))"
   ]
  },
  {
   "cell_type": "markdown",
   "metadata": {},
   "source": [
    "## Q2. Dimensionality reduction + unsupervised image labeling. [15 points]\n",
    "\n",
    "Do this for $k = 100$ and $k = 500$.\n",
    "\n",
    "   - Reduce the dimensionality to $k$ dimensions via [PCA](http://scikit-learn.org/stable/modules/generated/sklearn.decomposition.PCA.html).\n",
    "   - Repeat Q1 on the reduced-dimensionality data.\n",
    "   - Report the overall accuracy on the test data.\n",
    "   \n",
    "This takes ~1 minute."
   ]
  },
  {
   "cell_type": "code",
   "execution_count": null,
   "metadata": {
    "collapsed": true
   },
   "outputs": [],
   "source": []
  },
  {
   "cell_type": "markdown",
   "metadata": {},
   "source": [
    "## Q3. Supervised image labeling. [20 points]\n",
    "\n",
    "   - Train a [logistic regression classifier](http://scikit-learn.org/stable/modules/generated/sklearn.linear_model.LogisticRegression.html#sklearn.linear_model.LogisticRegression).\n",
    "   - Set the classifier parameters `multi_class='multinomial'` and `solver='lbfgs'`.\n",
    "   - Select the parameter `C` with the best mean accuracy score in [3-fold cross-validation](http://scikit-learn.org/stable/modules/generated/sklearn.model_selection.KFold.html#sklearn.model_selection.KFold).\n",
    "   - Try `C = 1.0`, `C = 100.0`.\n",
    "   - Report the overall accuracy on the test data with the best `C` trained on the entire training data.\n",
    "\n",
    "Each fold should take around 1 minute."
   ]
  },
  {
   "cell_type": "code",
   "execution_count": null,
   "metadata": {
    "collapsed": true
   },
   "outputs": [],
   "source": []
  }
 ],
 "metadata": {
  "kernelspec": {
   "display_name": "Python 3",
   "language": "python",
   "name": "python3"
  },
  "language_info": {
   "codemirror_mode": {
    "name": "ipython",
    "version": 3
   },
   "file_extension": ".py",
   "mimetype": "text/x-python",
   "name": "python",
   "nbconvert_exporter": "python",
   "pygments_lexer": "ipython3",
   "version": "3.5.2"
  }
 },
 "nbformat": 4,
 "nbformat_minor": 2
}
