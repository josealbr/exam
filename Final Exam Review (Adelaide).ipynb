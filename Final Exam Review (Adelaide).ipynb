{
 "cells": [
  {
   "cell_type": "markdown",
   "metadata": {},
   "source": [
    "# Final Exam Review (Adelaide) [50 points]\n",
    "\n",
    "*Contact TA: Emaad Ahmed Manzoor (emaad@cmu.edu)*\n",
    "\n",
    "Recommended videos: https://www.youtube.com/playlist?list=PL5-da3qGB5ICeMbQuqbbCOQWcS6OYBr5A"
   ]
  },
  {
   "cell_type": "markdown",
   "metadata": {},
   "source": [
    "## Dataset\n",
    "\n",
    "   - We will be using the Fashion-MNIST dataset. Take a look at what the data looks like [here](https://github.com/zalandoresearch/fashion-mnist).\n",
    "   - Download the data from [here](https://www.dropbox.com/s/qgsk90f22tvsqjp/fashionmnist.zip?dl=0).\n",
    "   - There are 60,000 training images and 10,000 test images.\n",
    "   - 10 classes: t-shirt, trouser, pullover, etc. labeled as 0 to 9."
   ]
  },
  {
   "cell_type": "markdown",
   "metadata": {},
   "source": [
    "## Q0. Load the data into variables: Xtrain, ytrain, Xtest and ytest. [5 points]\n",
    "\n",
    "   - Each .csv files contains a header that describes each column.\n",
    "   - Reading the files takes <1 minute.\n",
    "   - Print the shape of each variable."
   ]
  },
  {
   "cell_type": "code",
   "execution_count": 1,
   "metadata": {},
   "outputs": [],
   "source": [
    "import numpy as np\n",
    "import matplotlib.pyplot as plt\n",
    "import pandas as pd\n",
    "import warnings\n",
    "warnings.filterwarnings('ignore')\n",
    "%matplotlib inline"
   ]
  },
  {
   "cell_type": "code",
   "execution_count": 2,
   "metadata": {},
   "outputs": [],
   "source": [
    "train_df = pd.read_csv(\"fashion-mnist_train.csv\", sep=\",\",  thousands=\",\")\n",
    "test_df = pd.read_csv(\"fashion-mnist_test.csv\", sep=\",\",  thousands=\",\")"
   ]
  },
  {
   "cell_type": "code",
   "execution_count": 3,
   "metadata": {},
   "outputs": [
    {
     "name": "stdout",
     "output_type": "stream",
     "text": [
      "Xtrain: (60000, 784)   Xtest: (10000, 784)   ytest: (10000,)   ytrain: (60000,)\n"
     ]
    }
   ],
   "source": [
    "Xtrain = train_df.loc[:, train_df.columns != 'label']\n",
    "Xtest = test_df.loc[:, test_df.columns != 'label']\n",
    "ytrain = train_df.loc[:, 'label']\n",
    "ytest = test_df.loc[:,  'label']\n",
    "\n",
    "print(\"Xtrain:\",Xtrain.shape,\"  Xtest:\",Xtest.shape,\"  ytest:\",ytest.shape,\"  ytrain:\",ytrain.shape)\n"
   ]
  },
  {
   "cell_type": "markdown",
   "metadata": {},
   "source": [
    "## Q1. Unsupervised image labeling. [10 points]\n",
    "\n",
    "   - Cluster the images into 10 clusters via [K-Means](http://scikit-learn.org/stable/modules/generated/sklearn.cluster.KMeans.html).\n",
    "   - Label each cluster with the most popular image class it contains.\n",
    "   - Print the class label assigned to each cluster.\n",
    "   - Report the overall accuracy on the test data.\n",
    "\n",
    "Hint: You may need to convert the K-Means cluster labels to integers using the function `labels_.astype(int)`.\n",
    "\n",
    "Clustering takes around 1 minute."
   ]
  },
  {
   "cell_type": "code",
   "execution_count": 4,
   "metadata": {},
   "outputs": [
    {
     "name": "stdout",
     "output_type": "stream",
     "text": [
      "CPU times: user 7 s, sys: 380 ms, total: 7.38 s\n",
      "Wall time: 20 s\n"
     ]
    }
   ],
   "source": [
    "%%time\n",
    "from sklearn.cluster import KMeans\n",
    "model = KMeans(n_clusters=10, n_jobs=-1)\n",
    "clf = model.fit(Xtrain)"
   ]
  },
  {
   "cell_type": "code",
   "execution_count": 5,
   "metadata": {},
   "outputs": [
    {
     "name": "stdout",
     "output_type": "stream",
     "text": [
      "Cluster 0 labeled with class 1\n",
      "Cluster 1 labeled with class 6\n",
      "Cluster 2 labeled with class 8\n",
      "Cluster 3 labeled with class 9\n",
      "Cluster 4 labeled with class 0\n",
      "Cluster 5 labeled with class 8\n",
      "Cluster 6 labeled with class 4\n",
      "Cluster 7 labeled with class 9\n",
      "Cluster 8 labeled with class 7\n",
      "Cluster 9 labeled with class 5\n"
     ]
    }
   ],
   "source": [
    "cluster_labels = []\n",
    "image_clusters = clf.labels_\n",
    "for cidx in range(10):\n",
    "    true_labels = ytrain[image_clusters == cidx].astype(int)\n",
    "    most_popular_label = np.bincount(true_labels).argmax()\n",
    "    cluster_labels.append(most_popular_label)\n",
    "    print(\"Cluster \" + str(cidx) + \" labeled with class \" + str(most_popular_label))"
   ]
  },
  {
   "cell_type": "code",
   "execution_count": 16,
   "metadata": {},
   "outputs": [
    {
     "name": "stdout",
     "output_type": "stream",
     "text": [
      "Accuracy: 0.552\n"
     ]
    },
    {
     "data": {
      "text/plain": [
       "0.55200000000000005"
      ]
     },
     "execution_count": 16,
     "metadata": {},
     "output_type": "execute_result"
    }
   ],
   "source": [
    "from sklearn.metrics import accuracy_score\n",
    "\n",
    "ypred_cluster = clf.predict(Xtest)\n",
    "ypred = [cluster_labels[y] for y in ypred_cluster] # convert it to classes\n",
    "print(\"Accuracy: \" + str(np.mean(ypred==ytest)))\n",
    "\n",
    "\n",
    "accuracy_score(ytest, ypred)"
   ]
  },
  {
   "cell_type": "markdown",
   "metadata": {},
   "source": [
    "## Q2. Dimensionality reduction + unsupervised image labeling. [15 points]\n",
    "\n",
    "Do this for $k = 100$ and $k = 500$.\n",
    "\n",
    "   - Reduce the dimensionality to $k$ dimensions via [PCA](http://scikit-learn.org/stable/modules/generated/sklearn.decomposition.PCA.html).\n",
    "   - Repeat Q1 on the reduced-dimensionality data.\n",
    "   - Report the overall accuracy on the test data.\n",
    "   \n",
    "This takes ~1 minute."
   ]
  },
  {
   "cell_type": "code",
   "execution_count": 22,
   "metadata": {},
   "outputs": [
    {
     "name": "stdout",
     "output_type": "stream",
     "text": [
      "0.5813\n",
      "0.5521\n",
      "CPU times: user 1min 37s, sys: 1min 15s, total: 2min 53s\n",
      "Wall time: 28.6 s\n"
     ]
    }
   ],
   "source": [
    "%%time\n",
    "\n",
    "from sklearn.decomposition import PCA\n",
    "\n",
    "def decomp(k, X, y, Xtest, ytest):\n",
    "    p = PCA(k)\n",
    "    X_transformed = p.fit_transform(X)\n",
    "    clf = KMeans(n_clusters=10, n_jobs=-1)\n",
    "    clf.fit(X_transformed)\n",
    "    \n",
    "    cluster_labels = []\n",
    "    image_clusters = clf.labels_\n",
    "    for cidx in range(10):\n",
    "        true_labels = ytrain[image_clusters == cidx].astype(int)\n",
    "        most_popular_label = np.bincount(true_labels).argmax()\n",
    "        cluster_labels.append(most_popular_label)\n",
    "    \n",
    "    ypred_cluster = clf.predict(p.transform(Xtest))\n",
    "    ypred = [cluster_labels[y] for y in ypred_cluster]\n",
    "    print(accuracy_score(ytest, ypred))\n",
    "    \n",
    "\n",
    "decomp(100, Xtrain, ytrain, Xtest, ytest)\n",
    "decomp(500, Xtrain, ytrain, Xtest, ytest)"
   ]
  },
  {
   "cell_type": "code",
   "execution_count": null,
   "metadata": {},
   "outputs": [],
   "source": []
  },
  {
   "cell_type": "markdown",
   "metadata": {},
   "source": [
    "## Q3. Supervised image labeling. [20 points]\n",
    "\n",
    "   - Train a [logistic regression classifier](http://scikit-learn.org/stable/modules/generated/sklearn.linear_model.LogisticRegression.html#sklearn.linear_model.LogisticRegression).\n",
    "   - Set the classifier parameters `multi_class='multinomial'` and `solver='lbfgs'`.\n",
    "   - Select the parameter `C` with the best mean accuracy score in [3-fold cross-validation](http://scikit-learn.org/stable/modules/generated/sklearn.model_selection.KFold.html#sklearn.model_selection.KFold).\n",
    "   - Try `C = 1.0`, `C = 100.0`.\n",
    "   - Report the overall accuracy on the test data with the best `C` trained on the entire training data.\n",
    "\n",
    "Each fold should take around 1 minute."
   ]
  },
  {
   "cell_type": "code",
   "execution_count": 29,
   "metadata": {},
   "outputs": [
    {
     "name": "stdout",
     "output_type": "stream",
     "text": [
      "Fold 0: F1_Score: 0.862317\n",
      "Fold 1: F1_Score: 0.862317\n",
      "Fold 2: F1_Score: 0.862317\n",
      "Mean k-Fold score: 0.862316666667\n",
      "Fold 0: F1_Score: 0.862500\n",
      "Fold 1: F1_Score: 0.862500\n",
      "Fold 2: F1_Score: 0.862500\n",
      "Mean k-Fold score: 0.8625\n",
      "CPU times: user 2min 57s, sys: 708 ms, total: 2min 58s\n",
      "Wall time: 2min 58s\n"
     ]
    }
   ],
   "source": [
    "%%time\n",
    "\n",
    "from sklearn.linear_model import LogisticRegression\n",
    "from sklearn.model_selection import KFold\n",
    "\n",
    "def cross_validation(classifier, training_matrix, label_vector, n_folds):\n",
    "    k_fold = KFold(n_folds)\n",
    "    fold_scores = []\n",
    "    for k, (train, val) in enumerate(k_fold.split(training_matrix, label_vector)):\n",
    "        classifier.fit(training_matrix, label_vector)\n",
    "        ypred = classifier.predict(training_matrix)\n",
    "        yval = label_vector\n",
    "        accuracy = np.sum(ypred==yval)/len(ypred)\n",
    "        #score = f1_score(y_true=yval, y_pred=ypred)\n",
    "        fold_scores.append(accuracy)        \n",
    "        print(('Fold %d: F1_Score: %f') % (k, accuracy))\n",
    "    mean_score = np.mean(fold_scores)\n",
    "    print(\"Mean k-Fold score: \" + str(mean_score))\n",
    "    return mean_score\n",
    "\n",
    "l = LogisticRegression(multi_class='multinomial', solver='lbfgs', C=1.0)\n",
    "\n",
    "cross_validation(l, Xtrain, ytrain, 3)\n",
    "\n",
    "l2 = LogisticRegression(multi_class='multinomial', solver='lbfgs', C=100.0)\n",
    "\n",
    "\n",
    "cross_validation(l2, Xtrain, ytrain, 3)\n"
   ]
  }
 ],
 "metadata": {
  "kernelspec": {
   "display_name": "Python 3",
   "language": "python",
   "name": "python3"
  },
  "language_info": {
   "codemirror_mode": {
    "name": "ipython",
    "version": 3
   },
   "file_extension": ".py",
   "mimetype": "text/x-python",
   "name": "python",
   "nbconvert_exporter": "python",
   "pygments_lexer": "ipython3",
   "version": "3.5.2"
  }
 },
 "nbformat": 4,
 "nbformat_minor": 2
}
