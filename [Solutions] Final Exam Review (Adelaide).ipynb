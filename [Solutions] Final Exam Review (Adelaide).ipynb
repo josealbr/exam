{
 "cells": [
  {
   "cell_type": "markdown",
   "metadata": {},
   "source": [
    "# Final Exam Review (Adelaide)\n",
    "\n",
    "*Contact TA: Emaad Ahmed Manzoor (emaad@cmu.edu)*\n",
    "\n",
    "Recommended videos: https://www.youtube.com/playlist?list=PL5-da3qGB5ICeMbQuqbbCOQWcS6OYBr5A"
   ]
  },
  {
   "cell_type": "markdown",
   "metadata": {},
   "source": [
    "## Dataset\n",
    "\n",
    "   - We will be using the Fashion-MNIST dataset. Take a look at what the data looks like [here](https://github.com/zalandoresearch/fashion-mnist).\n",
    "   - Download the data from [here](https://www.dropbox.com/s/qgsk90f22tvsqjp/fashionmnist.zip?dl=0).\n",
    "   - There are 60,000 training images and 10,000 test images.\n",
    "   - 10 classes: t-shirt, trouser, pullover, etc. labeled as 0 to 9."
   ]
  },
  {
   "cell_type": "markdown",
   "metadata": {},
   "source": [
    "## Q0. Load the data into variables: Xtrain, ytrain, Xtest and ytest.\n",
    "\n",
    "   - Each .csv files contains a header that describes each column.\n",
    "   - Reading the files takes <1 minute.\n",
    "   - Print the shape of each variable."
   ]
  },
  {
   "cell_type": "code",
   "execution_count": 2,
   "metadata": {
    "collapsed": true
   },
   "outputs": [],
   "source": [
    "import numpy as np"
   ]
  },
  {
   "cell_type": "code",
   "execution_count": 5,
   "metadata": {},
   "outputs": [
    {
     "name": "stdout",
     "output_type": "stream",
     "text": [
      "Wall time: 1min 27s\n"
     ]
    }
   ],
   "source": [
    "%%time\n",
    "training_data = np.loadtxt(\"fashion-mnist_train.csv\", skiprows=1, delimiter=',')\n",
    "test_data = np.loadtxt(\"fashion-mnist_test.csv\", skiprows=1, delimiter=',')"
   ]
  },
  {
   "cell_type": "code",
   "execution_count": 6,
   "metadata": {},
   "outputs": [],
   "source": [
    "Xtrain = training_data[:,1:]\n",
    "ytrain = training_data[:,0]\n",
    "Xtest = test_data[:,1:]\n",
    "ytest = test_data[:,0]"
   ]
  },
  {
   "cell_type": "code",
   "execution_count": 7,
   "metadata": {},
   "outputs": [
    {
     "name": "stdout",
     "output_type": "stream",
     "text": [
      "(60000, 784)\n",
      "(60000,)\n",
      "(10000, 784)\n",
      "(10000,)\n"
     ]
    }
   ],
   "source": [
    "print(Xtrain.shape)\n",
    "print(ytrain.shape)\n",
    "print(Xtest.shape)\n",
    "print(ytest.shape)"
   ]
  },
  {
   "cell_type": "markdown",
   "metadata": {},
   "source": [
    "## Q1. Unsupervised image labeling.\n",
    "\n",
    "   - Cluster the images into 10 clusters via [K-Means](http://scikit-learn.org/stable/modules/generated/sklearn.cluster.KMeans.html).\n",
    "   - Label each cluster with the most popular image class it contains.\n",
    "   - Print the class label assigned to each cluster.\n",
    "   - Report the overall accuracy on the test data.\n",
    "\n",
    "Hint: You may need to convert the K-Means cluster labels to integers using the function `labels_.astype(int)`.\n",
    "\n",
    "Clustering takes around 1 minute."
   ]
  },
  {
   "cell_type": "code",
   "execution_count": 8,
   "metadata": {},
   "outputs": [
    {
     "name": "stdout",
     "output_type": "stream",
     "text": [
      "Wall time: 1min 29s\n"
     ]
    }
   ],
   "source": [
    "%%time\n",
    "from sklearn.cluster import KMeans\n",
    "\n",
    "clf = KMeans(n_clusters=10, n_jobs=-1)\n",
    "clf.fit(Xtrain)"
   ]
  },
  {
   "cell_type": "code",
   "execution_count": 9,
   "metadata": {},
   "outputs": [
    {
     "name": "stdout",
     "output_type": "stream",
     "text": [
      "Cluster 0 labeled with class 8\n",
      "Cluster 1 labeled with class 5\n",
      "Cluster 2 labeled with class 6\n",
      "Cluster 3 labeled with class 4\n",
      "Cluster 4 labeled with class 0\n",
      "Cluster 5 labeled with class 8\n",
      "Cluster 6 labeled with class 7\n",
      "Cluster 7 labeled with class 1\n",
      "Cluster 8 labeled with class 9\n",
      "Cluster 9 labeled with class 9\n"
     ]
    }
   ],
   "source": [
    "cluster_labels = []\n",
    "image_clusters = clf.labels_\n",
    "for cidx in range(10):\n",
    "    true_labels = ytrain[image_clusters == cidx].astype(int)\n",
    "    most_popular_label = np.bincount(true_labels).argmax()\n",
    "    cluster_labels.append(most_popular_label)\n",
    "    print(\"Cluster \" + str(cidx) + \" labeled with class \" + str(most_popular_label))"
   ]
  },
  {
   "cell_type": "code",
   "execution_count": null,
   "metadata": {
    "collapsed": true
   },
   "outputs": [],
   "source": [
    "ypred_cluster = clf.predict(Xtest)\n",
    "ypred = [cluster_labels[y] for y in ypred_cluster] # convert it to classes"
   ]
  },
  {
   "cell_type": "code",
   "execution_count": null,
   "metadata": {},
   "outputs": [],
   "source": [
    "print(\"Accuracy: \" + str(np.mean(ypred==ytest)))"
   ]
  },
  {
   "cell_type": "markdown",
   "metadata": {},
   "source": [
    "## Q2. Dimensionality reduction + unsupervised image labeling.\n",
    "\n",
    "Do this for $k = 100$ and $k = 500$.\n",
    "\n",
    "   - Reduce the dimensionality to $k$ dimensions via [PCA](http://scikit-learn.org/stable/modules/generated/sklearn.decomposition.PCA.html).\n",
    "   - Repeat Q1 on the reduced-dimensionality data.\n",
    "   - Report the overall accuracy on the test data.\n",
    "   \n",
    "This takes ~1 minute."
   ]
  },
  {
   "cell_type": "code",
   "execution_count": 22,
   "metadata": {},
   "outputs": [
    {
     "name": "stdout",
     "output_type": "stream",
     "text": [
      "Performing PCA...\n",
      "K-Means...\n",
      "Accuracy with k=100: 0.4807\n",
      "Performing PCA...\n",
      "K-Means...\n",
      "Accuracy with k=500: 0.5019\n",
      "CPU times: user 55.4 s, sys: 7.38 s, total: 1min 2s\n",
      "Wall time: 46.8 s\n"
     ]
    }
   ],
   "source": [
    "%%time\n",
    "from sklearn.decomposition import PCA\n",
    "\n",
    "for k in [100, 500]:\n",
    "    print(\"Performing PCA...\")\n",
    "    pca = PCA(n_components=k)\n",
    "    Xtrain_transformed = pca.fit_transform(Xtrain)\n",
    "    \n",
    "    print(\"K-Means...\")\n",
    "    clf = KMeans(n_clusters=10, n_jobs=-1)\n",
    "    clf.fit(Xtrain_transformed)\n",
    "    \n",
    "    cluster_labels = []\n",
    "    image_clusters = clf.labels_\n",
    "    for cidx in range(10):\n",
    "        true_labels = ytrain[image_clusters == cidx].astype(int)\n",
    "        most_popular_label = np.bincount(true_labels).argmax()\n",
    "        cluster_labels.append(most_popular_label)\n",
    "\n",
    "    ypred_cluster = clf.predict(pca.fit_transform(Xtest))\n",
    "    ypred = [cluster_labels[y] for y in ypred_cluster] # convert it to classes\n",
    "    \n",
    "    print(\"Accuracy with k=\" + str(k) + \": \" + str(np.mean(ypred==ytest)))"
   ]
  },
  {
   "cell_type": "markdown",
   "metadata": {},
   "source": [
    "## Q3. Supervised image labeling.\n",
    "\n",
    "   - Train a [logistic regression classifier](http://scikit-learn.org/stable/modules/generated/sklearn.linear_model.LogisticRegression.html#sklearn.linear_model.LogisticRegression).\n",
    "   - Set the classifier parameters `multi_class='multinomial'` and `solver='lbfgs'`.\n",
    "   - Select the parameter `C` with the best mean accuracy score in [3-fold cross-validation](http://scikit-learn.org/stable/modules/generated/sklearn.model_selection.KFold.html#sklearn.model_selection.KFold).\n",
    "   - Try `C = 1.0`, `C = 100.0`.\n",
    "   - Report the overall accuracy on the test data with the best `C` trained on the entire training data.\n",
    "\n",
    "Each fold should take around 1 minute."
   ]
  },
  {
   "cell_type": "code",
   "execution_count": 23,
   "metadata": {},
   "outputs": [
    {
     "name": "stdout",
     "output_type": "stream",
     "text": [
      "C = 1.0\n",
      "\tFold...\n",
      "\tFold...\n",
      "\tFold...\n",
      "0.85005\n",
      "C = 100.0\n",
      "\tFold...\n",
      "\tFold...\n",
      "\tFold...\n",
      "0.8494\n",
      "CPU times: user 3.35 s, sys: 1.52 s, total: 4.87 s\n",
      "Wall time: 3min 56s\n"
     ]
    }
   ],
   "source": [
    "%%time\n",
    "from sklearn.model_selection import KFold\n",
    "from sklearn.linear_model import LogisticRegression\n",
    "\n",
    "for C in [1.0, 100.0]:\n",
    "    print(\"C = \" + str(C))\n",
    "    scores = []\n",
    "    for train_idx, val_idx in KFold(n_splits=3).split(Xtrain):\n",
    "        print(\"\\tFold...\")\n",
    "        train_images = Xtrain[train_idx,:]\n",
    "        train_labels = ytrain[train_idx]\n",
    "        val_images = Xtrain[val_idx,:]\n",
    "        val_labels = ytrain[val_idx]\n",
    "\n",
    "        clf = LogisticRegression(C=C, n_jobs=-1, multi_class='multinomial', solver='lbfgs')\n",
    "        clf.fit(train_images, train_labels)\n",
    "        \n",
    "        ypred = clf.predict(val_images)\n",
    "        accuracy = np.mean(ypred==val_labels)\n",
    "        scores.append(accuracy)\n",
    "    \n",
    "    print(np.mean(scores))"
   ]
  },
  {
   "cell_type": "code",
   "execution_count": 24,
   "metadata": {},
   "outputs": [
    {
     "name": "stdout",
     "output_type": "stream",
     "text": [
      "Accuracy: 0.8519\n"
     ]
    }
   ],
   "source": [
    "best_C = 1.0\n",
    "clf = LogisticRegression(C=best_C, n_jobs=-1, multi_class='multinomial', solver='lbfgs')\n",
    "clf.fit(Xtrain, ytrain)\n",
    "ypred = clf.predict(Xtest)\n",
    "accuracy = np.mean(ypred == ytest)\n",
    "print(\"Accuracy: \" + str(accuracy))"
   ]
  }
 ],
 "metadata": {
  "kernelspec": {
   "display_name": "Python 3",
   "language": "python",
   "name": "python3"
  },
  "language_info": {
   "codemirror_mode": {
    "name": "ipython",
    "version": 3
   },
   "file_extension": ".py",
   "mimetype": "text/x-python",
   "name": "python",
   "nbconvert_exporter": "python",
   "pygments_lexer": "ipython3",
   "version": "3.5.2"
  }
 },
 "nbformat": 4,
 "nbformat_minor": 2
}
